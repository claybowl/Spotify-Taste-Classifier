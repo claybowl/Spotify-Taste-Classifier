{
  "cells": [
    {
      "cell_type": "code",
      "execution_count": 1,
      "metadata": {},
      "outputs": [],
      "source": [
        "import os\n",
        "import spotipy\n",
        "import csv\n",
        "from spotipy.oauth2 import SpotifyClientCredentials\n",
        "import pandas as pd\n",
        "import spotipy.util as util\n"
      ],
      "id": "67bdb6ac"
    },
    {
      "cell_type": "markdown",
      "metadata": {},
      "source": [
        "### Add spotify playlist id. You can find that by sharing your spotify playlist, looking at the generated URL (for example: https://open.spotify.com/playlist/7povWGbvTwTNz4Ipxv8lev?si=dbe3123c5d304edd) and copying the id (everything after playlist/ and before ?si=). In this case the id will be **7povWGbvTwTNz4Ipxv8lev**"
      ],
      "id": "13412a82"
    },
    {
      "cell_type": "code",
      "execution_count": 8,
      "metadata": {},
      "outputs": [],
      "source": [
        "# Set your credentials here\n",
        "os.environ[\"SPOTIPY_CLIENT_ID\"] = \"052ac62e09364e79837503959c9ee117\"\n",
        "os.environ[\"SPOTIPY_CLIENT_SECRET\"] = \"6ab119c595c94646bba0adc9515574a8\"\n",
        "\n",
        "# Set the playlist ID here\n",
        "playlist_id = \"2TJ59DUhycoFYObMovzQYp\"\n"
      ],
      "id": "bcb941e7"
    },
    {
      "cell_type": "code",
      "execution_count": 9,
      "metadata": {},
      "outputs": [],
      "source": [
        "# Initialize Spotipy with the client credentials\n",
        "sp = spotipy.Spotify(auth_manager=SpotifyClientCredentials())\n",
        "\n",
        "# Function to get all tracks in a playlist\n",
        "\n",
        "\n",
        "def get_playlist_tracks(sp, playlist_id):\n",
        "    results = sp.playlist_tracks(playlist_id)\n",
        "    tracks = results['items']\n",
        "    while results['next']:\n",
        "        results = sp.next(results)\n",
        "        tracks.extend(results['items'])\n",
        "    return tracks"
      ],
      "id": "964cef24"
    },
    {
      "cell_type": "markdown",
      "metadata": {},
      "source": [
        "## Pulls tracks, and meta data and writes them to a new .csv file. Alter function as needed for specific meta data.\n",
        "\n",
        "user_id,id,name,artist,album,release_date,popularity,duration_ms,explicit,uri,primary_genre,danceability,energy,key,loudness,mode,speechiness,acousticness,instrumentalness,liveness,valence,tempo,type,track_href,analysis_url,time_signature"
      ],
      "id": "f7b62055"
    },
    {
      "cell_type": "code",
      "execution_count": 10,
      "metadata": {},
      "outputs": [
        {
          "ename": "TypeError",
          "evalue": "'NoneType' object is not subscriptable",
          "output_type": "error",
          "traceback": [
            "\u001b[0;31m---------------------------------------------------------------------------\u001b[0m",
            "\u001b[0;31mTypeError\u001b[0m                                 Traceback (most recent call last)",
            "Cell \u001b[0;32mIn[10], line 14\u001b[0m\n\u001b[1;32m     12\u001b[0m \u001b[39mfor\u001b[39;00m track \u001b[39min\u001b[39;00m playlist_tracks:\n\u001b[1;32m     13\u001b[0m     t \u001b[39m=\u001b[39m track[\u001b[39m'\u001b[39m\u001b[39mtrack\u001b[39m\u001b[39m'\u001b[39m]\n\u001b[0;32m---> 14\u001b[0m     album \u001b[39m=\u001b[39m sp\u001b[39m.\u001b[39malbum(t[\u001b[39m'\u001b[39;49m\u001b[39malbum\u001b[39;49m\u001b[39m'\u001b[39;49m][\u001b[39m'\u001b[39m\u001b[39mid\u001b[39m\u001b[39m'\u001b[39m])\n\u001b[1;32m     15\u001b[0m     audio_features \u001b[39m=\u001b[39m sp\u001b[39m.\u001b[39maudio_features([t[\u001b[39m'\u001b[39m\u001b[39mid\u001b[39m\u001b[39m'\u001b[39m]])[\u001b[39m0\u001b[39m]\n\u001b[1;32m     17\u001b[0m     writer\u001b[39m.\u001b[39mwriterow({\n\u001b[1;32m     18\u001b[0m         \u001b[39m'\u001b[39m\u001b[39mname\u001b[39m\u001b[39m'\u001b[39m: t[\u001b[39m'\u001b[39m\u001b[39mname\u001b[39m\u001b[39m'\u001b[39m],\n\u001b[1;32m     19\u001b[0m         \u001b[39m'\u001b[39m\u001b[39martist\u001b[39m\u001b[39m'\u001b[39m: t[\u001b[39m'\u001b[39m\u001b[39martists\u001b[39m\u001b[39m'\u001b[39m][\u001b[39m0\u001b[39m][\u001b[39m'\u001b[39m\u001b[39mname\u001b[39m\u001b[39m'\u001b[39m],\n\u001b[0;32m   (...)\u001b[0m\n\u001b[1;32m     37\u001b[0m         \u001b[39m'\u001b[39m\u001b[39mtime_signature\u001b[39m\u001b[39m'\u001b[39m: audio_features[\u001b[39m'\u001b[39m\u001b[39mtime_signature\u001b[39m\u001b[39m'\u001b[39m]\n\u001b[1;32m     38\u001b[0m     })\n",
            "\u001b[0;31mTypeError\u001b[0m: 'NoneType' object is not subscriptable"
          ]
        }
      ],
      "source": [
        "# Get all tracks in the playlist\n",
        "playlist_tracks = get_playlist_tracks(sp, playlist_id)\n",
        "\n",
        "with open('playlist_tracks.csv', mode='w', newline='', encoding='utf-8') as csv_file:\n",
        "    fieldnames = ['name', 'artist', 'album', 'spotify_id',\n",
        "                  'duration_ms', 'explicit', 'uri', 'primary_genre', 'danceability', 'energy', 'key',\n",
        "                  'loudness', 'mode', 'speechiness', 'acousticness', 'instrumentalness',\n",
        "                  'liveness', 'valence', 'tempo', 'time_signature']\n",
        "    writer = csv.DictWriter(csv_file, fieldnames=fieldnames)\n",
        "    writer.writeheader()\n",
        "\n",
        "    for track in playlist_tracks:\n",
        "        t = track['track']\n",
        "        album = sp.album(t['album']['id'])\n",
        "        audio_features = sp.audio_features([t['id']])[0]\n",
        "\n",
        "        writer.writerow({\n",
        "            'name': t['name'],\n",
        "            'artist': t['artists'][0]['name'],\n",
        "            'album': t['album']['name'],\n",
        "            'spotify_id': t['id'],\n",
        "            'duration_ms': t['duration_ms'],\n",
        "            'explicit': t['explicit'],\n",
        "            'uri': t['uri'],\n",
        "            'primary_genre': album['genres'][0] if album['genres'] else 'Unknown',\n",
        "            'danceability': audio_features['danceability'],\n",
        "            'energy': audio_features['energy'],\n",
        "            'key': audio_features['key'],\n",
        "            'loudness': audio_features['loudness'],\n",
        "            'mode': audio_features['mode'],\n",
        "            'speechiness': audio_features['speechiness'],\n",
        "            'acousticness': audio_features['acousticness'],\n",
        "            'instrumentalness': audio_features['instrumentalness'],\n",
        "            'liveness': audio_features['liveness'],\n",
        "            'valence': audio_features['valence'],\n",
        "            'tempo': audio_features['tempo'],\n",
        "            'time_signature': audio_features['time_signature']\n",
        "        })\n",
        "\n",
        "print(\"Tracks and metadata have been saved to 'playlist_tracks.csv'.\")"
      ],
      "id": "a2d4a7d9"
    },
    {
      "cell_type": "markdown",
      "metadata": {},
      "source": [
        "## Get spotify metadata"
      ],
      "id": "42152b73"
    }
  ],
  "metadata": {
    "kernelspec": {
      "display_name": "Python 3",
      "language": "python",
      "name": "python3"
    },
    "language_info": {
      "codemirror_mode": {
        "name": "ipython",
        "version": 3
      },
      "file_extension": ".py",
      "mimetype": "text/x-python",
      "name": "python",
      "nbconvert_exporter": "python",
      "pygments_lexer": "ipython3",
      "version": "3.10.4"
    },
    "orig_nbformat": 4
  },
  "nbformat": 4,
  "nbformat_minor": 5
}