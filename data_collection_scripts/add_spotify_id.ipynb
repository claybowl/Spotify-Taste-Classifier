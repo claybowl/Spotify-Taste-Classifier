{
  "cells": [
    {
      "cell_type": "code",
      "execution_count": 36,
      "metadata": {},
      "outputs": [],
      "source": [
        "import os\n",
        "import requests\n",
        "import pandas as pd\n",
        "import csv\n"
      ],
      "id": "ef9024a3"
    },
    {
      "cell_type": "code",
      "execution_count": null,
      "metadata": {},
      "outputs": [],
      "source": [
        "# This file path is relative to my old directory. Should be updated if necessary to run again.\n",
        "file_path = \"\\Data\\zach_wilsterman-apple_music_library.csv\"\n",
        "\n",
        "data = []\n",
        "\n",
        "with open(file_path, \"r\") as file:\n",
        "    reader = csv.reader(file, delimiter=',', quotechar='\"',\n",
        "                        quoting=csv.QUOTE_MINIMAL)\n",
        "    for row in reader:\n",
        "        data.append(row)"
      ],
      "id": "c9d9c2eb"
    },
    {
      "cell_type": "code",
      "execution_count": 43,
      "metadata": {},
      "outputs": [],
      "source": [
        "songs_df = pd.read_csv(\n",
        "    \"/workspaces/codespaces-jupyter/data/zach_wilsterman-apple_music_library.csv\")\n"
      ],
      "id": "3638b91a"
    },
    {
      "cell_type": "code",
      "execution_count": 45,
      "metadata": {},
      "outputs": [
        {
          "name": "stdout",
          "output_type": "stream",
          "text": [
            "Index(['Title', 'Runtime', 'Artist', 'Album', 'Genre'], dtype='object')\n"
          ]
        }
      ],
      "source": [
        "print(songs_df.columns)\n"
      ],
      "id": "8cded323"
    },
    {
      "cell_type": "code",
      "execution_count": 47,
      "metadata": {},
      "outputs": [
        {
          "name": "stdout",
          "output_type": "stream",
          "text": [
            "                                          Title Runtime  \\\n",
            "0                                         82588    1:57   \n",
            "1                                          5805    3:39   \n",
            "2                                     1100 Days    4:42   \n",
            "3                                111 Winchester    4:35   \n",
            "4                                      100 Suns    1:58   \n",
            "...                                         ...     ...   \n",
            "3569  ABSOLUTELYCRANKINMYMF'INHOG (feat. Brody)    3:09   \n",
            "3570                                   Absentee    6:02   \n",
            "3571                               Abracadavers    3:46   \n",
            "3572                   ABC (feat. Sophia Black)    2:32   \n",
            "3573                                  Abandoned    5:27   \n",
            "\n",
            "                         Artist  \\\n",
            "0     The Dillinger Escape Plan   \n",
            "1             The Classic Crime   \n",
            "2                       Sianvar   \n",
            "3                  I the Mighty   \n",
            "4            30 Seconds To Mars   \n",
            "...                         ...   \n",
            "3569                    Bilmuri   \n",
            "3570        Thank You Scientist   \n",
            "3571          The Classic Crime   \n",
            "3572                   Polyphia   \n",
            "3573                Unprocessed   \n",
            "\n",
            "                                                 Album        Genre  \\\n",
            "0                                            Ire Works        Metal   \n",
            "1                                      The Silver Cord         Rock   \n",
            "2                                            Stay Lost         Rock   \n",
            "3     Where the Mind Wants to Go / Where You Let It Go  Alternative   \n",
            "4                                          This Is War    Alt. Rock   \n",
            "...                                                ...          ...   \n",
            "3569                                       Eggy Pocket  Alternative   \n",
            "3570                     Maps of Non - Existent Places         Rock   \n",
            "3571                                   The Silver Cord         Rock   \n",
            "3572                        Remember That You Will Die          Pop   \n",
            "3573                                   Artificial Void        Metal   \n",
            "\n",
            "                  spotify_id  \n",
            "0     3tS9boNFoElRhCXG1ceCYR  \n",
            "1     516MV6DEvyukH63TqQxvR9  \n",
            "2     330MVON0chfPqMXiprudw0  \n",
            "3     6IyH0EaJuz7hUuiDGQyczM  \n",
            "4                       None  \n",
            "...                      ...  \n",
            "3569                    None  \n",
            "3570  2p0VkVFmhocon9wrX5XNvz  \n",
            "3571  3DrI4EVwqK4l4gB5b8hG8h  \n",
            "3572  4c8TMfsKJIrRgCWs8LCEbQ  \n",
            "3573  2HwouROQIVSHXwE6PZaCzC  \n",
            "\n",
            "[3574 rows x 6 columns]\n"
          ]
        }
      ],
      "source": [
        "def search_track(title, artist, access_token):\n",
        "    search_url = \"https://api.spotify.com/v1/search\"\n",
        "    headers = {\"Authorization\": f\"Bearer {access_token}\"}\n",
        "    params = {\n",
        "        \"q\": f\"track:{title} artist:{artist}\",\n",
        "        \"type\": \"track\",\n",
        "        \"limit\": 1\n",
        "    }\n",
        "    response = requests.get(search_url, headers=headers, params=params)\n",
        "\n",
        "    if response.status_code == 200:\n",
        "        items = response.json()[\"tracks\"][\"items\"]\n",
        "        return items[0][\"id\"] if items else None\n",
        "    else:\n",
        "        raise Exception(f\"Failed to search for track: {response.text}\")\n",
        "\n",
        "\n",
        "# Read the list of songs from the CSV file\n",
        "# songs_df = pd.read_csv(\n",
        "#    \"/workspaces/codespaces-jupyter/data/zach_wilsterman-apple_music_library.csv\")\n",
        "\n",
        "# Authenticate with the Spotify API\n",
        "access_token = get_spotify_token(client_id, client_secret)\n",
        "\n",
        "# Find the Spotify audio ID for each song\n",
        "songs_df[\"spotify_id\"] = songs_df.apply(lambda row: search_track(\n",
        "    row[\"Title\"], row[\"Artist\"], access_token), axis=1)\n",
        "\n",
        "# Save the updated DataFrame to a new CSV file\n",
        "songs_df.to_csv(\"songs_with_ids.csv\", index=False)\n",
        "\n",
        "print(songs_df)\n"
      ],
      "id": "d2a530b1"
    }
  ],
  "metadata": {
    "kernelspec": {
      "display_name": "Python 3",
      "language": "python",
      "name": "python3"
    },
    "language_info": {
      "codemirror_mode": {
        "name": "ipython",
        "version": 3
      },
      "file_extension": ".py",
      "mimetype": "text/x-python",
      "name": "python",
      "nbconvert_exporter": "python",
      "pygments_lexer": "ipython3",
      "version": "3.10.4"
    },
    "orig_nbformat": 4
  },
  "nbformat": 4,
  "nbformat_minor": 5
}